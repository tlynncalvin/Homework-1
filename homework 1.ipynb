{
 "cells": [
  {
   "cell_type": "code",
   "execution_count": null,
   "id": "c4b45667-b9c6-42e8-a05a-e51f70938737",
   "metadata": {},
   "outputs": [],
   "source": [
    "# PAYMENTS/BILLING-CONTACTLESS CREDIT CARDS\n",
    "\n",
    "\n",
    "## CHIPS ADDED\n",
    "\n",
    "* Chip embedded cards started in the U.S. around 2019. The chips facilitated contactless payments. It allows the tap to\n",
    "pay touchless transactions\n",
    "\n",
    "* Major Credit Card companies and banks initiated the chip embeded cards.\n",
    "\n",
    "\n",
    "## Business Activities:\n",
    "\n",
    "* Fraud liability was the main focus of the chip embedded cards.\n",
    "\n",
    "* Since fraud is the focus the intended customer is the general consumer, meaning everyone.\n",
    "\n",
    "* The cards uses not only microchips but also antannae. The radio waves deployed during each transaction creates a \n",
    "3 digit code that code completes the transaction. Without the code the transaction is not completed. This feature is \n",
    "part of the security.\n",
    "\n",
    "\n",
    "## Landscape:\n",
    "\n",
    "* The domain is general consummerism for in store use.\n",
    "\n",
    "* Some card issuers have switched over to producing chip only cards such as Bank of America.\n",
    "\n",
    "\n",
    "## Results\n",
    "\n",
    "* Quicker transactions benefit the consumer.\n",
    "\n",
    "* Easier transactions abroad.\n",
    "\n",
    "* The greatest benefit was realized later after the Corona Virus took hold: Contactless.\n",
    "\n",
    "\n",
    "## Recommendations\n",
    "\n",
    "* Fraud security and Contactless transactions are a great benefit realized from the mircrochips, but \n",
    "because ID's or signatures are not required Fraud protection programs need to be extensive for lost or stolen cards. \n",
    "\n",
    "* This technology benefits the card issuers because it shifts the liability on the lessor techology in situations of fraud.\n",
    "\n",
    "* This techology would drive other features such as contacting the card holder to verify questionable transactions. This \n",
    "would identify fraudulent transactions sooner.\n",
    "\n"
   ]
  }
 ],
 "metadata": {
  "kernelspec": {
   "display_name": "Python 3",
   "language": "python",
   "name": "python3"
  },
  "language_info": {
   "codemirror_mode": {
    "name": "ipython",
    "version": 3
   },
   "file_extension": ".py",
   "mimetype": "text/x-python",
   "name": "python",
   "nbconvert_exporter": "python",
   "pygments_lexer": "ipython3",
   "version": "3.8.8"
  }
 },
 "nbformat": 4,
 "nbformat_minor": 5
}
